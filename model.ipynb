{
 "cells": [
  {
   "cell_type": "code",
   "execution_count": 55,
   "metadata": {},
   "outputs": [],
   "source": [
    "import pandas as pd\n",
    "import numpy as np\n",
    "from sklearn.model_selection import train_test_split\n",
    "import tensorflow as tf\n",
    "from tensorflow.keras import layers,models\n",
    "from sklearn.preprocessing import MinMaxScaler\n",
    "from keras.utils import to_categorical\n",
    "import matplotlib.pyplot as plt \n",
    "import seaborn as sns\n",
    "from sklearn.metrics import confusion_matrix, ConfusionMatrixDisplay"
   ]
  },
  {
   "cell_type": "code",
   "execution_count": 3,
   "metadata": {},
   "outputs": [],
   "source": [
    "dataset = pd.read_csv(\"/home/aditya/ADITYA/Projects/Denoise/audio_features.csv\")"
   ]
  },
  {
   "cell_type": "code",
   "execution_count": 4,
   "metadata": {},
   "outputs": [
    {
     "data": {
      "text/html": [
       "<div>\n",
       "<style scoped>\n",
       "    .dataframe tbody tr th:only-of-type {\n",
       "        vertical-align: middle;\n",
       "    }\n",
       "\n",
       "    .dataframe tbody tr th {\n",
       "        vertical-align: top;\n",
       "    }\n",
       "\n",
       "    .dataframe thead th {\n",
       "        text-align: right;\n",
       "    }\n",
       "</style>\n",
       "<table border=\"1\" class=\"dataframe\">\n",
       "  <thead>\n",
       "    <tr style=\"text-align: right;\">\n",
       "      <th></th>\n",
       "      <th>feature_0</th>\n",
       "      <th>feature_1</th>\n",
       "      <th>feature_2</th>\n",
       "      <th>feature_3</th>\n",
       "      <th>feature_4</th>\n",
       "      <th>feature_5</th>\n",
       "      <th>feature_6</th>\n",
       "      <th>feature_7</th>\n",
       "      <th>feature_8</th>\n",
       "      <th>feature_9</th>\n",
       "      <th>...</th>\n",
       "      <th>feature_40</th>\n",
       "      <th>feature_41</th>\n",
       "      <th>feature_42</th>\n",
       "      <th>feature_43</th>\n",
       "      <th>feature_44</th>\n",
       "      <th>feature_45</th>\n",
       "      <th>feature_46</th>\n",
       "      <th>feature_47</th>\n",
       "      <th>feature_48</th>\n",
       "      <th>label</th>\n",
       "    </tr>\n",
       "  </thead>\n",
       "  <tbody>\n",
       "    <tr>\n",
       "      <th>0</th>\n",
       "      <td>-299.82755</td>\n",
       "      <td>161.920550</td>\n",
       "      <td>-42.986015</td>\n",
       "      <td>17.291681</td>\n",
       "      <td>-9.258543</td>\n",
       "      <td>0.352771</td>\n",
       "      <td>-22.677830</td>\n",
       "      <td>-16.391844</td>\n",
       "      <td>-20.816635</td>\n",
       "      <td>-6.810088</td>\n",
       "      <td>...</td>\n",
       "      <td>0.200054</td>\n",
       "      <td>0.166085</td>\n",
       "      <td>0.288850</td>\n",
       "      <td>0.146710</td>\n",
       "      <td>0.210376</td>\n",
       "      <td>0.234634</td>\n",
       "      <td>0.390072</td>\n",
       "      <td>0.343456</td>\n",
       "      <td>0.241421</td>\n",
       "      <td>9</td>\n",
       "    </tr>\n",
       "    <tr>\n",
       "      <th>1</th>\n",
       "      <td>-159.23601</td>\n",
       "      <td>141.497200</td>\n",
       "      <td>-72.412490</td>\n",
       "      <td>-14.045747</td>\n",
       "      <td>-31.530480</td>\n",
       "      <td>-2.079339</td>\n",
       "      <td>-31.011710</td>\n",
       "      <td>3.170327</td>\n",
       "      <td>-22.956690</td>\n",
       "      <td>-2.027877</td>\n",
       "      <td>...</td>\n",
       "      <td>0.300713</td>\n",
       "      <td>0.365584</td>\n",
       "      <td>0.182047</td>\n",
       "      <td>0.241449</td>\n",
       "      <td>0.430506</td>\n",
       "      <td>0.307052</td>\n",
       "      <td>0.353095</td>\n",
       "      <td>0.198946</td>\n",
       "      <td>0.270798</td>\n",
       "      <td>4</td>\n",
       "    </tr>\n",
       "    <tr>\n",
       "      <th>2</th>\n",
       "      <td>-347.25380</td>\n",
       "      <td>81.683920</td>\n",
       "      <td>4.630914</td>\n",
       "      <td>29.517320</td>\n",
       "      <td>-2.358563</td>\n",
       "      <td>7.258026</td>\n",
       "      <td>1.432311</td>\n",
       "      <td>11.312077</td>\n",
       "      <td>-11.228522</td>\n",
       "      <td>8.196815</td>\n",
       "      <td>...</td>\n",
       "      <td>0.354507</td>\n",
       "      <td>0.266855</td>\n",
       "      <td>0.257950</td>\n",
       "      <td>0.272695</td>\n",
       "      <td>0.276310</td>\n",
       "      <td>0.290093</td>\n",
       "      <td>0.270885</td>\n",
       "      <td>0.282254</td>\n",
       "      <td>0.289429</td>\n",
       "      <td>2</td>\n",
       "    </tr>\n",
       "    <tr>\n",
       "      <th>3</th>\n",
       "      <td>-236.47750</td>\n",
       "      <td>169.871190</td>\n",
       "      <td>-36.489277</td>\n",
       "      <td>33.065678</td>\n",
       "      <td>-11.959123</td>\n",
       "      <td>26.728968</td>\n",
       "      <td>-29.550335</td>\n",
       "      <td>22.830448</td>\n",
       "      <td>-19.267536</td>\n",
       "      <td>5.290238</td>\n",
       "      <td>...</td>\n",
       "      <td>0.245136</td>\n",
       "      <td>0.229481</td>\n",
       "      <td>0.262452</td>\n",
       "      <td>0.237843</td>\n",
       "      <td>0.503760</td>\n",
       "      <td>0.319610</td>\n",
       "      <td>0.238971</td>\n",
       "      <td>0.241377</td>\n",
       "      <td>0.295423</td>\n",
       "      <td>0</td>\n",
       "    </tr>\n",
       "    <tr>\n",
       "      <th>4</th>\n",
       "      <td>-391.06015</td>\n",
       "      <td>106.025536</td>\n",
       "      <td>3.993231</td>\n",
       "      <td>28.169186</td>\n",
       "      <td>13.174751</td>\n",
       "      <td>6.092801</td>\n",
       "      <td>-15.872272</td>\n",
       "      <td>-2.305582</td>\n",
       "      <td>-5.397427</td>\n",
       "      <td>-5.592200</td>\n",
       "      <td>...</td>\n",
       "      <td>0.260017</td>\n",
       "      <td>0.255695</td>\n",
       "      <td>0.259007</td>\n",
       "      <td>0.309162</td>\n",
       "      <td>0.313341</td>\n",
       "      <td>0.282600</td>\n",
       "      <td>0.243095</td>\n",
       "      <td>0.225221</td>\n",
       "      <td>0.173567</td>\n",
       "      <td>2</td>\n",
       "    </tr>\n",
       "    <tr>\n",
       "      <th>...</th>\n",
       "      <td>...</td>\n",
       "      <td>...</td>\n",
       "      <td>...</td>\n",
       "      <td>...</td>\n",
       "      <td>...</td>\n",
       "      <td>...</td>\n",
       "      <td>...</td>\n",
       "      <td>...</td>\n",
       "      <td>...</td>\n",
       "      <td>...</td>\n",
       "      <td>...</td>\n",
       "      <td>...</td>\n",
       "      <td>...</td>\n",
       "      <td>...</td>\n",
       "      <td>...</td>\n",
       "      <td>...</td>\n",
       "      <td>...</td>\n",
       "      <td>...</td>\n",
       "      <td>...</td>\n",
       "      <td>...</td>\n",
       "      <td>...</td>\n",
       "    </tr>\n",
       "    <tr>\n",
       "      <th>8727</th>\n",
       "      <td>-127.10550</td>\n",
       "      <td>75.694000</td>\n",
       "      <td>-40.375282</td>\n",
       "      <td>52.278736</td>\n",
       "      <td>1.591725</td>\n",
       "      <td>30.898699</td>\n",
       "      <td>-9.234956</td>\n",
       "      <td>27.621975</td>\n",
       "      <td>1.926606</td>\n",
       "      <td>-0.616720</td>\n",
       "      <td>...</td>\n",
       "      <td>0.208848</td>\n",
       "      <td>0.189586</td>\n",
       "      <td>0.216372</td>\n",
       "      <td>0.239839</td>\n",
       "      <td>0.435918</td>\n",
       "      <td>0.405155</td>\n",
       "      <td>0.368892</td>\n",
       "      <td>0.138490</td>\n",
       "      <td>0.220771</td>\n",
       "      <td>0</td>\n",
       "    </tr>\n",
       "    <tr>\n",
       "      <th>8728</th>\n",
       "      <td>-337.26440</td>\n",
       "      <td>142.297150</td>\n",
       "      <td>-68.321785</td>\n",
       "      <td>33.001240</td>\n",
       "      <td>-29.197311</td>\n",
       "      <td>16.973269</td>\n",
       "      <td>7.759877</td>\n",
       "      <td>9.823354</td>\n",
       "      <td>6.562455</td>\n",
       "      <td>10.994356</td>\n",
       "      <td>...</td>\n",
       "      <td>0.332337</td>\n",
       "      <td>0.399194</td>\n",
       "      <td>0.452183</td>\n",
       "      <td>0.249549</td>\n",
       "      <td>0.269017</td>\n",
       "      <td>0.250904</td>\n",
       "      <td>0.238200</td>\n",
       "      <td>0.196331</td>\n",
       "      <td>0.221189</td>\n",
       "      <td>5</td>\n",
       "    </tr>\n",
       "    <tr>\n",
       "      <th>8729</th>\n",
       "      <td>-528.29890</td>\n",
       "      <td>136.650330</td>\n",
       "      <td>6.392556</td>\n",
       "      <td>1.529255</td>\n",
       "      <td>-13.484799</td>\n",
       "      <td>-8.145865</td>\n",
       "      <td>-5.186058</td>\n",
       "      <td>6.606945</td>\n",
       "      <td>0.167064</td>\n",
       "      <td>-5.328062</td>\n",
       "      <td>...</td>\n",
       "      <td>0.284440</td>\n",
       "      <td>0.270789</td>\n",
       "      <td>0.245537</td>\n",
       "      <td>0.268527</td>\n",
       "      <td>0.272564</td>\n",
       "      <td>0.318459</td>\n",
       "      <td>0.316753</td>\n",
       "      <td>0.302065</td>\n",
       "      <td>0.296234</td>\n",
       "      <td>3</td>\n",
       "    </tr>\n",
       "    <tr>\n",
       "      <th>8730</th>\n",
       "      <td>-257.98395</td>\n",
       "      <td>147.511120</td>\n",
       "      <td>-26.680098</td>\n",
       "      <td>49.505590</td>\n",
       "      <td>-13.572097</td>\n",
       "      <td>38.290874</td>\n",
       "      <td>-8.247279</td>\n",
       "      <td>21.642666</td>\n",
       "      <td>-11.039514</td>\n",
       "      <td>21.161846</td>\n",
       "      <td>...</td>\n",
       "      <td>0.315960</td>\n",
       "      <td>0.249379</td>\n",
       "      <td>0.227828</td>\n",
       "      <td>0.193679</td>\n",
       "      <td>0.145686</td>\n",
       "      <td>0.556835</td>\n",
       "      <td>0.260564</td>\n",
       "      <td>0.321886</td>\n",
       "      <td>0.152597</td>\n",
       "      <td>0</td>\n",
       "    </tr>\n",
       "    <tr>\n",
       "      <th>8731</th>\n",
       "      <td>-443.02002</td>\n",
       "      <td>243.941330</td>\n",
       "      <td>13.164351</td>\n",
       "      <td>13.661469</td>\n",
       "      <td>8.466457</td>\n",
       "      <td>3.542790</td>\n",
       "      <td>4.610527</td>\n",
       "      <td>7.484221</td>\n",
       "      <td>9.074920</td>\n",
       "      <td>-7.900480</td>\n",
       "      <td>...</td>\n",
       "      <td>0.228238</td>\n",
       "      <td>0.249394</td>\n",
       "      <td>0.265176</td>\n",
       "      <td>0.323321</td>\n",
       "      <td>0.199069</td>\n",
       "      <td>0.277865</td>\n",
       "      <td>0.319064</td>\n",
       "      <td>0.301001</td>\n",
       "      <td>0.238221</td>\n",
       "      <td>8</td>\n",
       "    </tr>\n",
       "  </tbody>\n",
       "</table>\n",
       "<p>8732 rows × 50 columns</p>\n",
       "</div>"
      ],
      "text/plain": [
       "      feature_0   feature_1  feature_2  feature_3  feature_4  feature_5  \\\n",
       "0    -299.82755  161.920550 -42.986015  17.291681  -9.258543   0.352771   \n",
       "1    -159.23601  141.497200 -72.412490 -14.045747 -31.530480  -2.079339   \n",
       "2    -347.25380   81.683920   4.630914  29.517320  -2.358563   7.258026   \n",
       "3    -236.47750  169.871190 -36.489277  33.065678 -11.959123  26.728968   \n",
       "4    -391.06015  106.025536   3.993231  28.169186  13.174751   6.092801   \n",
       "...         ...         ...        ...        ...        ...        ...   \n",
       "8727 -127.10550   75.694000 -40.375282  52.278736   1.591725  30.898699   \n",
       "8728 -337.26440  142.297150 -68.321785  33.001240 -29.197311  16.973269   \n",
       "8729 -528.29890  136.650330   6.392556   1.529255 -13.484799  -8.145865   \n",
       "8730 -257.98395  147.511120 -26.680098  49.505590 -13.572097  38.290874   \n",
       "8731 -443.02002  243.941330  13.164351  13.661469   8.466457   3.542790   \n",
       "\n",
       "      feature_6  feature_7  feature_8  feature_9  ...  feature_40  feature_41  \\\n",
       "0    -22.677830 -16.391844 -20.816635  -6.810088  ...    0.200054    0.166085   \n",
       "1    -31.011710   3.170327 -22.956690  -2.027877  ...    0.300713    0.365584   \n",
       "2      1.432311  11.312077 -11.228522   8.196815  ...    0.354507    0.266855   \n",
       "3    -29.550335  22.830448 -19.267536   5.290238  ...    0.245136    0.229481   \n",
       "4    -15.872272  -2.305582  -5.397427  -5.592200  ...    0.260017    0.255695   \n",
       "...         ...        ...        ...        ...  ...         ...         ...   \n",
       "8727  -9.234956  27.621975   1.926606  -0.616720  ...    0.208848    0.189586   \n",
       "8728   7.759877   9.823354   6.562455  10.994356  ...    0.332337    0.399194   \n",
       "8729  -5.186058   6.606945   0.167064  -5.328062  ...    0.284440    0.270789   \n",
       "8730  -8.247279  21.642666 -11.039514  21.161846  ...    0.315960    0.249379   \n",
       "8731   4.610527   7.484221   9.074920  -7.900480  ...    0.228238    0.249394   \n",
       "\n",
       "      feature_42  feature_43  feature_44  feature_45  feature_46  feature_47  \\\n",
       "0       0.288850    0.146710    0.210376    0.234634    0.390072    0.343456   \n",
       "1       0.182047    0.241449    0.430506    0.307052    0.353095    0.198946   \n",
       "2       0.257950    0.272695    0.276310    0.290093    0.270885    0.282254   \n",
       "3       0.262452    0.237843    0.503760    0.319610    0.238971    0.241377   \n",
       "4       0.259007    0.309162    0.313341    0.282600    0.243095    0.225221   \n",
       "...          ...         ...         ...         ...         ...         ...   \n",
       "8727    0.216372    0.239839    0.435918    0.405155    0.368892    0.138490   \n",
       "8728    0.452183    0.249549    0.269017    0.250904    0.238200    0.196331   \n",
       "8729    0.245537    0.268527    0.272564    0.318459    0.316753    0.302065   \n",
       "8730    0.227828    0.193679    0.145686    0.556835    0.260564    0.321886   \n",
       "8731    0.265176    0.323321    0.199069    0.277865    0.319064    0.301001   \n",
       "\n",
       "      feature_48  label  \n",
       "0       0.241421      9  \n",
       "1       0.270798      4  \n",
       "2       0.289429      2  \n",
       "3       0.295423      0  \n",
       "4       0.173567      2  \n",
       "...          ...    ...  \n",
       "8727    0.220771      0  \n",
       "8728    0.221189      5  \n",
       "8729    0.296234      3  \n",
       "8730    0.152597      0  \n",
       "8731    0.238221      8  \n",
       "\n",
       "[8732 rows x 50 columns]"
      ]
     },
     "execution_count": 4,
     "metadata": {},
     "output_type": "execute_result"
    }
   ],
   "source": [
    "dataset "
   ]
  },
  {
   "cell_type": "code",
   "execution_count": 52,
   "metadata": {},
   "outputs": [
    {
     "name": "stdout",
     "output_type": "stream",
     "text": [
      "[1000, 429, 1000, 1000, 1000, 1000, 374, 1000, 929, 1000, 0]\n"
     ]
    }
   ],
   "source": [
    "X=dataset.iloc[:,:-1].values\n",
    "Y=dataset['label']\n",
    "L=[0,0,0,0,0,0,0,0,0,0,0]\n",
    "num =[0,1,2,3,4,5,6,7,8,9]\n",
    "for i in Y:\n",
    "    if i in num:\n",
    "        L[i]=L[i]+1\n",
    "print(L)\n",
    "    "
   ]
  },
  {
   "cell_type": "code",
   "execution_count": 29,
   "metadata": {},
   "outputs": [
    {
     "data": {
      "text/plain": [
       "array([[-2.9982755e+02,  1.6192055e+02, -4.2986015e+01, ...,\n",
       "         3.9007150e-01,  3.4345585e-01,  2.4142067e-01],\n",
       "       [-1.5923601e+02,  1.4149720e+02, -7.2412490e+01, ...,\n",
       "         3.5309494e-01,  1.9894566e-01,  2.7079767e-01],\n",
       "       [-3.4725380e+02,  8.1683920e+01,  4.6309137e+00, ...,\n",
       "         2.7088463e-01,  2.8225362e-01,  2.8942886e-01],\n",
       "       ...,\n",
       "       [-5.2829890e+02,  1.3665033e+02,  6.3925557e+00, ...,\n",
       "         3.1675318e-01,  3.0206516e-01,  2.9623410e-01],\n",
       "       [-2.5798395e+02,  1.4751112e+02, -2.6680098e+01, ...,\n",
       "         2.6056445e-01,  3.2188594e-01,  1.5259673e-01],\n",
       "       [-4.4302002e+02,  2.4394133e+02,  1.3164351e+01, ...,\n",
       "         3.1906390e-01,  3.0100134e-01,  2.3822118e-01]])"
      ]
     },
     "execution_count": 29,
     "metadata": {},
     "output_type": "execute_result"
    }
   ],
   "source": [
    "X"
   ]
  },
  {
   "cell_type": "code",
   "execution_count": 30,
   "metadata": {},
   "outputs": [
    {
     "data": {
      "text/plain": [
       "0       9\n",
       "1       4\n",
       "2       2\n",
       "3       0\n",
       "4       2\n",
       "       ..\n",
       "8727    0\n",
       "8728    5\n",
       "8729    3\n",
       "8730    0\n",
       "8731    8\n",
       "Name: label, Length: 8732, dtype: int64"
      ]
     },
     "execution_count": 30,
     "metadata": {},
     "output_type": "execute_result"
    }
   ],
   "source": [
    "Y"
   ]
  },
  {
   "cell_type": "code",
   "execution_count": 31,
   "metadata": {},
   "outputs": [],
   "source": [
    "X_train, X_test, Y_train, Y_test = train_test_split(X, Y, test_size=0.2, stratify=Y, random_state=42)"
   ]
  },
  {
   "cell_type": "code",
   "execution_count": 32,
   "metadata": {},
   "outputs": [
    {
     "data": {
      "text/plain": [
       "array([-2.2112790e+02,  1.3935027e+02, -3.4536190e+01,  3.7732185e+01,\n",
       "        4.5582232e+00,  2.7943910e+01,  1.5129298e+01,  2.7666819e+01,\n",
       "        3.5101502e+00, -3.7082863e+00, -7.7212496e+00,  4.2292770e+00,\n",
       "        1.3113237e+01,  3.1563750e-01,  3.7316638e-01,  4.6770117e-01,\n",
       "        5.9915006e-01,  9.6204656e-01,  8.9669630e-01,  7.3897594e-01,\n",
       "        5.2192044e-01,  3.2524493e-01,  2.4438609e-01,  2.2406030e-01,\n",
       "        2.5358740e-01,  5.4715830e-01,  6.6732320e-01,  9.3359375e-01,\n",
       "        5.8571386e-01,  6.2363510e-01,  6.7985200e-01,  6.3555940e-01,\n",
       "        4.5766822e-01,  5.5255467e-01,  4.8628008e-01,  5.2492520e-01,\n",
       "        4.9222660e-01,  2.4482463e-01,  3.7658268e-01,  4.0318424e-01,\n",
       "        2.5257003e-01,  2.6100817e-01,  3.4093690e-01,  2.5450382e-01,\n",
       "        2.1931803e-01,  2.4765000e-01,  2.4343745e-01,  2.5166770e-01,\n",
       "        2.4482463e-01])"
      ]
     },
     "execution_count": 32,
     "metadata": {},
     "output_type": "execute_result"
    }
   ],
   "source": [
    "X_train[0]"
   ]
  },
  {
   "cell_type": "code",
   "execution_count": 33,
   "metadata": {},
   "outputs": [],
   "source": [
    "scaler = MinMaxScaler(feature_range=(0,1))\n",
    "X_train_scaled = scaler.fit_transform(X_train)\n",
    "X_test_scaled = scaler.transform(X_test)"
   ]
  },
  {
   "cell_type": "code",
   "execution_count": 34,
   "metadata": {},
   "outputs": [
    {
     "data": {
      "text/plain": [
       "array([0.63259969, 0.54758198, 0.55712221, 0.66115125, 0.57872457,\n",
       "       0.67289017, 0.60572617, 0.76795724, 0.4991559 , 0.47601749,\n",
       "       0.46283342, 0.5993562 , 0.67373666, 0.31466069, 0.37212531,\n",
       "       0.46493751, 0.60138306, 0.96193662, 0.89645071, 0.73847868,\n",
       "       0.53243861, 0.32469904, 0.24366763, 0.22353808, 0.25239203,\n",
       "       0.52694478, 0.66230156, 0.93229356, 0.56341192, 0.61364695,\n",
       "       0.67232008, 0.62903492, 0.43445232, 0.53220536, 0.46965728,\n",
       "       0.51181552, 0.47463338, 0.34413077, 0.50407524, 0.45186891,\n",
       "       0.30781069, 0.31787317, 0.40150142, 0.33061098, 0.30437037,\n",
       "       0.2970988 , 0.30210365, 0.31880632, 0.29594658])"
      ]
     },
     "execution_count": 34,
     "metadata": {},
     "output_type": "execute_result"
    }
   ],
   "source": [
    "X_train_scaled[0]"
   ]
  },
  {
   "cell_type": "code",
   "execution_count": 37,
   "metadata": {},
   "outputs": [
    {
     "data": {
      "text/plain": [
       "(8732, 49)"
      ]
     },
     "execution_count": 37,
     "metadata": {},
     "output_type": "execute_result"
    }
   ],
   "source": [
    "X.shape"
   ]
  },
  {
   "cell_type": "code",
   "execution_count": 38,
   "metadata": {},
   "outputs": [
    {
     "data": {
      "text/html": [
       "<pre style=\"white-space:pre;overflow-x:auto;line-height:normal;font-family:Menlo,'DejaVu Sans Mono',consolas,'Courier New',monospace\"><span style=\"font-weight: bold\">Model: \"sequential_1\"</span>\n",
       "</pre>\n"
      ],
      "text/plain": [
       "\u001b[1mModel: \"sequential_1\"\u001b[0m\n"
      ]
     },
     "metadata": {},
     "output_type": "display_data"
    },
    {
     "data": {
      "text/html": [
       "<pre style=\"white-space:pre;overflow-x:auto;line-height:normal;font-family:Menlo,'DejaVu Sans Mono',consolas,'Courier New',monospace\">┏━━━━━━━━━━━━━━━━━━━━━━━━━━━━━━━━━┳━━━━━━━━━━━━━━━━━━━━━━━━┳━━━━━━━━━━━━━━━┓\n",
       "┃<span style=\"font-weight: bold\"> Layer (type)                    </span>┃<span style=\"font-weight: bold\"> Output Shape           </span>┃<span style=\"font-weight: bold\">       Param # </span>┃\n",
       "┡━━━━━━━━━━━━━━━━━━━━━━━━━━━━━━━━━╇━━━━━━━━━━━━━━━━━━━━━━━━╇━━━━━━━━━━━━━━━┩\n",
       "│ conv2d_2 (<span style=\"color: #0087ff; text-decoration-color: #0087ff\">Conv2D</span>)               │ (<span style=\"color: #00d7ff; text-decoration-color: #00d7ff\">None</span>, <span style=\"color: #00af00; text-decoration-color: #00af00\">1</span>, <span style=\"color: #00af00; text-decoration-color: #00af00\">49</span>, <span style=\"color: #00af00; text-decoration-color: #00af00\">128</span>)     │         <span style=\"color: #00af00; text-decoration-color: #00af00\">3,328</span> │\n",
       "├─────────────────────────────────┼────────────────────────┼───────────────┤\n",
       "│ max_pooling2d_2 (<span style=\"color: #0087ff; text-decoration-color: #0087ff\">MaxPooling2D</span>)  │ (<span style=\"color: #00d7ff; text-decoration-color: #00d7ff\">None</span>, <span style=\"color: #00af00; text-decoration-color: #00af00\">1</span>, <span style=\"color: #00af00; text-decoration-color: #00af00\">25</span>, <span style=\"color: #00af00; text-decoration-color: #00af00\">128</span>)     │             <span style=\"color: #00af00; text-decoration-color: #00af00\">0</span> │\n",
       "├─────────────────────────────────┼────────────────────────┼───────────────┤\n",
       "│ conv2d_3 (<span style=\"color: #0087ff; text-decoration-color: #0087ff\">Conv2D</span>)               │ (<span style=\"color: #00d7ff; text-decoration-color: #00d7ff\">None</span>, <span style=\"color: #00af00; text-decoration-color: #00af00\">1</span>, <span style=\"color: #00af00; text-decoration-color: #00af00\">25</span>, <span style=\"color: #00af00; text-decoration-color: #00af00\">256</span>)     │       <span style=\"color: #00af00; text-decoration-color: #00af00\">819,456</span> │\n",
       "├─────────────────────────────────┼────────────────────────┼───────────────┤\n",
       "│ max_pooling2d_3 (<span style=\"color: #0087ff; text-decoration-color: #0087ff\">MaxPooling2D</span>)  │ (<span style=\"color: #00d7ff; text-decoration-color: #00d7ff\">None</span>, <span style=\"color: #00af00; text-decoration-color: #00af00\">1</span>, <span style=\"color: #00af00; text-decoration-color: #00af00\">13</span>, <span style=\"color: #00af00; text-decoration-color: #00af00\">256</span>)     │             <span style=\"color: #00af00; text-decoration-color: #00af00\">0</span> │\n",
       "├─────────────────────────────────┼────────────────────────┼───────────────┤\n",
       "│ dropout_3 (<span style=\"color: #0087ff; text-decoration-color: #0087ff\">Dropout</span>)             │ (<span style=\"color: #00d7ff; text-decoration-color: #00d7ff\">None</span>, <span style=\"color: #00af00; text-decoration-color: #00af00\">1</span>, <span style=\"color: #00af00; text-decoration-color: #00af00\">13</span>, <span style=\"color: #00af00; text-decoration-color: #00af00\">256</span>)     │             <span style=\"color: #00af00; text-decoration-color: #00af00\">0</span> │\n",
       "├─────────────────────────────────┼────────────────────────┼───────────────┤\n",
       "│ flatten_1 (<span style=\"color: #0087ff; text-decoration-color: #0087ff\">Flatten</span>)             │ (<span style=\"color: #00d7ff; text-decoration-color: #00d7ff\">None</span>, <span style=\"color: #00af00; text-decoration-color: #00af00\">3328</span>)           │             <span style=\"color: #00af00; text-decoration-color: #00af00\">0</span> │\n",
       "├─────────────────────────────────┼────────────────────────┼───────────────┤\n",
       "│ dense_3 (<span style=\"color: #0087ff; text-decoration-color: #0087ff\">Dense</span>)                 │ (<span style=\"color: #00d7ff; text-decoration-color: #00d7ff\">None</span>, <span style=\"color: #00af00; text-decoration-color: #00af00\">512</span>)            │     <span style=\"color: #00af00; text-decoration-color: #00af00\">1,704,448</span> │\n",
       "├─────────────────────────────────┼────────────────────────┼───────────────┤\n",
       "│ dropout_4 (<span style=\"color: #0087ff; text-decoration-color: #0087ff\">Dropout</span>)             │ (<span style=\"color: #00d7ff; text-decoration-color: #00d7ff\">None</span>, <span style=\"color: #00af00; text-decoration-color: #00af00\">512</span>)            │             <span style=\"color: #00af00; text-decoration-color: #00af00\">0</span> │\n",
       "├─────────────────────────────────┼────────────────────────┼───────────────┤\n",
       "│ dense_4 (<span style=\"color: #0087ff; text-decoration-color: #0087ff\">Dense</span>)                 │ (<span style=\"color: #00d7ff; text-decoration-color: #00d7ff\">None</span>, <span style=\"color: #00af00; text-decoration-color: #00af00\">1024</span>)           │       <span style=\"color: #00af00; text-decoration-color: #00af00\">525,312</span> │\n",
       "├─────────────────────────────────┼────────────────────────┼───────────────┤\n",
       "│ dropout_5 (<span style=\"color: #0087ff; text-decoration-color: #0087ff\">Dropout</span>)             │ (<span style=\"color: #00d7ff; text-decoration-color: #00d7ff\">None</span>, <span style=\"color: #00af00; text-decoration-color: #00af00\">1024</span>)           │             <span style=\"color: #00af00; text-decoration-color: #00af00\">0</span> │\n",
       "├─────────────────────────────────┼────────────────────────┼───────────────┤\n",
       "│ dense_5 (<span style=\"color: #0087ff; text-decoration-color: #0087ff\">Dense</span>)                 │ (<span style=\"color: #00d7ff; text-decoration-color: #00d7ff\">None</span>, <span style=\"color: #00af00; text-decoration-color: #00af00\">10</span>)             │        <span style=\"color: #00af00; text-decoration-color: #00af00\">10,250</span> │\n",
       "└─────────────────────────────────┴────────────────────────┴───────────────┘\n",
       "</pre>\n"
      ],
      "text/plain": [
       "┏━━━━━━━━━━━━━━━━━━━━━━━━━━━━━━━━━┳━━━━━━━━━━━━━━━━━━━━━━━━┳━━━━━━━━━━━━━━━┓\n",
       "┃\u001b[1m \u001b[0m\u001b[1mLayer (type)                   \u001b[0m\u001b[1m \u001b[0m┃\u001b[1m \u001b[0m\u001b[1mOutput Shape          \u001b[0m\u001b[1m \u001b[0m┃\u001b[1m \u001b[0m\u001b[1m      Param #\u001b[0m\u001b[1m \u001b[0m┃\n",
       "┡━━━━━━━━━━━━━━━━━━━━━━━━━━━━━━━━━╇━━━━━━━━━━━━━━━━━━━━━━━━╇━━━━━━━━━━━━━━━┩\n",
       "│ conv2d_2 (\u001b[38;5;33mConv2D\u001b[0m)               │ (\u001b[38;5;45mNone\u001b[0m, \u001b[38;5;34m1\u001b[0m, \u001b[38;5;34m49\u001b[0m, \u001b[38;5;34m128\u001b[0m)     │         \u001b[38;5;34m3,328\u001b[0m │\n",
       "├─────────────────────────────────┼────────────────────────┼───────────────┤\n",
       "│ max_pooling2d_2 (\u001b[38;5;33mMaxPooling2D\u001b[0m)  │ (\u001b[38;5;45mNone\u001b[0m, \u001b[38;5;34m1\u001b[0m, \u001b[38;5;34m25\u001b[0m, \u001b[38;5;34m128\u001b[0m)     │             \u001b[38;5;34m0\u001b[0m │\n",
       "├─────────────────────────────────┼────────────────────────┼───────────────┤\n",
       "│ conv2d_3 (\u001b[38;5;33mConv2D\u001b[0m)               │ (\u001b[38;5;45mNone\u001b[0m, \u001b[38;5;34m1\u001b[0m, \u001b[38;5;34m25\u001b[0m, \u001b[38;5;34m256\u001b[0m)     │       \u001b[38;5;34m819,456\u001b[0m │\n",
       "├─────────────────────────────────┼────────────────────────┼───────────────┤\n",
       "│ max_pooling2d_3 (\u001b[38;5;33mMaxPooling2D\u001b[0m)  │ (\u001b[38;5;45mNone\u001b[0m, \u001b[38;5;34m1\u001b[0m, \u001b[38;5;34m13\u001b[0m, \u001b[38;5;34m256\u001b[0m)     │             \u001b[38;5;34m0\u001b[0m │\n",
       "├─────────────────────────────────┼────────────────────────┼───────────────┤\n",
       "│ dropout_3 (\u001b[38;5;33mDropout\u001b[0m)             │ (\u001b[38;5;45mNone\u001b[0m, \u001b[38;5;34m1\u001b[0m, \u001b[38;5;34m13\u001b[0m, \u001b[38;5;34m256\u001b[0m)     │             \u001b[38;5;34m0\u001b[0m │\n",
       "├─────────────────────────────────┼────────────────────────┼───────────────┤\n",
       "│ flatten_1 (\u001b[38;5;33mFlatten\u001b[0m)             │ (\u001b[38;5;45mNone\u001b[0m, \u001b[38;5;34m3328\u001b[0m)           │             \u001b[38;5;34m0\u001b[0m │\n",
       "├─────────────────────────────────┼────────────────────────┼───────────────┤\n",
       "│ dense_3 (\u001b[38;5;33mDense\u001b[0m)                 │ (\u001b[38;5;45mNone\u001b[0m, \u001b[38;5;34m512\u001b[0m)            │     \u001b[38;5;34m1,704,448\u001b[0m │\n",
       "├─────────────────────────────────┼────────────────────────┼───────────────┤\n",
       "│ dropout_4 (\u001b[38;5;33mDropout\u001b[0m)             │ (\u001b[38;5;45mNone\u001b[0m, \u001b[38;5;34m512\u001b[0m)            │             \u001b[38;5;34m0\u001b[0m │\n",
       "├─────────────────────────────────┼────────────────────────┼───────────────┤\n",
       "│ dense_4 (\u001b[38;5;33mDense\u001b[0m)                 │ (\u001b[38;5;45mNone\u001b[0m, \u001b[38;5;34m1024\u001b[0m)           │       \u001b[38;5;34m525,312\u001b[0m │\n",
       "├─────────────────────────────────┼────────────────────────┼───────────────┤\n",
       "│ dropout_5 (\u001b[38;5;33mDropout\u001b[0m)             │ (\u001b[38;5;45mNone\u001b[0m, \u001b[38;5;34m1024\u001b[0m)           │             \u001b[38;5;34m0\u001b[0m │\n",
       "├─────────────────────────────────┼────────────────────────┼───────────────┤\n",
       "│ dense_5 (\u001b[38;5;33mDense\u001b[0m)                 │ (\u001b[38;5;45mNone\u001b[0m, \u001b[38;5;34m10\u001b[0m)             │        \u001b[38;5;34m10,250\u001b[0m │\n",
       "└─────────────────────────────────┴────────────────────────┴───────────────┘\n"
      ]
     },
     "metadata": {},
     "output_type": "display_data"
    },
    {
     "data": {
      "text/html": [
       "<pre style=\"white-space:pre;overflow-x:auto;line-height:normal;font-family:Menlo,'DejaVu Sans Mono',consolas,'Courier New',monospace\"><span style=\"font-weight: bold\"> Total params: </span><span style=\"color: #00af00; text-decoration-color: #00af00\">3,062,794</span> (11.68 MB)\n",
       "</pre>\n"
      ],
      "text/plain": [
       "\u001b[1m Total params: \u001b[0m\u001b[38;5;34m3,062,794\u001b[0m (11.68 MB)\n"
      ]
     },
     "metadata": {},
     "output_type": "display_data"
    },
    {
     "data": {
      "text/html": [
       "<pre style=\"white-space:pre;overflow-x:auto;line-height:normal;font-family:Menlo,'DejaVu Sans Mono',consolas,'Courier New',monospace\"><span style=\"font-weight: bold\"> Trainable params: </span><span style=\"color: #00af00; text-decoration-color: #00af00\">3,062,794</span> (11.68 MB)\n",
       "</pre>\n"
      ],
      "text/plain": [
       "\u001b[1m Trainable params: \u001b[0m\u001b[38;5;34m3,062,794\u001b[0m (11.68 MB)\n"
      ]
     },
     "metadata": {},
     "output_type": "display_data"
    },
    {
     "data": {
      "text/html": [
       "<pre style=\"white-space:pre;overflow-x:auto;line-height:normal;font-family:Menlo,'DejaVu Sans Mono',consolas,'Courier New',monospace\"><span style=\"font-weight: bold\"> Non-trainable params: </span><span style=\"color: #00af00; text-decoration-color: #00af00\">0</span> (0.00 B)\n",
       "</pre>\n"
      ],
      "text/plain": [
       "\u001b[1m Non-trainable params: \u001b[0m\u001b[38;5;34m0\u001b[0m (0.00 B)\n"
      ]
     },
     "metadata": {},
     "output_type": "display_data"
    }
   ],
   "source": [
    "model = models.Sequential([\n",
    "    layers.Input(shape=(1, 49, 1)),  \n",
    "    layers.Conv2D(128, (5, 5), padding='same', activation='relu', strides=1),\n",
    "    \n",
    "    layers.MaxPooling2D(pool_size=(2, 2), padding='same'),\n",
    "    \n",
    "    layers.Conv2D(256, (5, 5), padding='same', activation='relu', strides=1),\n",
    "    \n",
    "    layers.MaxPooling2D(pool_size=(2, 2), padding='same'),\n",
    "    \n",
    "    layers.Dropout(0.3),\n",
    "    \n",
    "    layers.Flatten(),\n",
    "    \n",
    "    layers.Dense(512, activation='relu'),\n",
    "    layers.Dropout(0.3),\n",
    "    \n",
    "    layers.Dense(1024, activation='relu'),\n",
    "    layers.Dropout(0.3),\n",
    "    \n",
    "    layers.Dense(10, activation='softmax')\n",
    "])\n",
    "\n",
    "model.compile(optimizer='adam', loss='categorical_crossentropy', metrics=['accuracy'])\n",
    "\n",
    "model.summary()"
   ]
  },
  {
   "cell_type": "code",
   "execution_count": 39,
   "metadata": {},
   "outputs": [
    {
     "name": "stdout",
     "output_type": "stream",
     "text": [
      "Unique values in Y_train: [0 1 2 3 4 5 6 7 8 9]\n",
      "Unique values in Y_test: [0 1 2 3 4 5 6 7 8 9]\n"
     ]
    }
   ],
   "source": [
    "print(\"Unique values in Y_train:\", np.unique(Y_train))\n",
    "print(\"Unique values in Y_test:\", np.unique(Y_test))\n"
   ]
  },
  {
   "cell_type": "code",
   "execution_count": 40,
   "metadata": {},
   "outputs": [
    {
     "data": {
      "text/plain": [
       "3569    5\n",
       "138     7\n",
       "8165    7\n",
       "7854    0\n",
       "2332    3\n",
       "       ..\n",
       "3521    4\n",
       "4154    4\n",
       "8174    9\n",
       "5476    9\n",
       "4210    2\n",
       "Name: label, Length: 6985, dtype: int64"
      ]
     },
     "execution_count": 40,
     "metadata": {},
     "output_type": "execute_result"
    }
   ],
   "source": [
    "Y_train"
   ]
  },
  {
   "cell_type": "code",
   "execution_count": 41,
   "metadata": {},
   "outputs": [],
   "source": [
    "# Y_train=Y_train-1\n",
    "# Y_test=Y_test-1\n",
    "\n",
    "Y_train = to_categorical(Y_train, num_classes=10)\n",
    "Y_test = to_categorical(Y_test, num_classes=10)\n"
   ]
  },
  {
   "cell_type": "code",
   "execution_count": 45,
   "metadata": {},
   "outputs": [
    {
     "data": {
      "text/plain": [
       "array([0., 0., 1., 0., 0., 0., 0., 0., 0., 0.])"
      ]
     },
     "execution_count": 45,
     "metadata": {},
     "output_type": "execute_result"
    }
   ],
   "source": [
    "Y_train[len(Y_train)-1]"
   ]
  },
  {
   "cell_type": "code",
   "execution_count": 46,
   "metadata": {},
   "outputs": [],
   "source": [
    "X_train_scaled = X_train_scaled.reshape(-1, 1, 49, 1)\n",
    "X_test_scaled = X_test_scaled.reshape(-1, 1, 49, 1)"
   ]
  },
  {
   "cell_type": "code",
   "execution_count": 47,
   "metadata": {},
   "outputs": [
    {
     "data": {
      "text/plain": [
       "(1, 49, 1)"
      ]
     },
     "execution_count": 47,
     "metadata": {},
     "output_type": "execute_result"
    }
   ],
   "source": [
    "X_train_scaled[0].shape"
   ]
  },
  {
   "cell_type": "code",
   "execution_count": 48,
   "metadata": {},
   "outputs": [
    {
     "name": "stdout",
     "output_type": "stream",
     "text": [
      "Epoch 1/40\n",
      "\u001b[1m140/140\u001b[0m \u001b[32m━━━━━━━━━━━━━━━━━━━━\u001b[0m\u001b[37m\u001b[0m \u001b[1m10s\u001b[0m 54ms/step - accuracy: 0.1632 - loss: 2.1714 - val_accuracy: 0.4305 - val_loss: 1.5302\n",
      "Epoch 2/40\n",
      "\u001b[1m140/140\u001b[0m \u001b[32m━━━━━━━━━━━━━━━━━━━━\u001b[0m\u001b[37m\u001b[0m \u001b[1m7s\u001b[0m 50ms/step - accuracy: 0.4565 - loss: 1.4755 - val_accuracy: 0.5867 - val_loss: 1.1054\n",
      "Epoch 3/40\n",
      "\u001b[1m140/140\u001b[0m \u001b[32m━━━━━━━━━━━━━━━━━━━━\u001b[0m\u001b[37m\u001b[0m \u001b[1m7s\u001b[0m 52ms/step - accuracy: 0.6223 - loss: 1.0788 - val_accuracy: 0.6978 - val_loss: 0.8966\n",
      "Epoch 4/40\n",
      "\u001b[1m140/140\u001b[0m \u001b[32m━━━━━━━━━━━━━━━━━━━━\u001b[0m\u001b[37m\u001b[0m \u001b[1m7s\u001b[0m 51ms/step - accuracy: 0.6898 - loss: 0.8925 - val_accuracy: 0.7636 - val_loss: 0.7165\n",
      "Epoch 5/40\n",
      "\u001b[1m140/140\u001b[0m \u001b[32m━━━━━━━━━━━━━━━━━━━━\u001b[0m\u001b[37m\u001b[0m \u001b[1m7s\u001b[0m 51ms/step - accuracy: 0.7663 - loss: 0.7077 - val_accuracy: 0.7848 - val_loss: 0.6373\n",
      "Epoch 6/40\n",
      "\u001b[1m140/140\u001b[0m \u001b[32m━━━━━━━━━━━━━━━━━━━━\u001b[0m\u001b[37m\u001b[0m \u001b[1m7s\u001b[0m 50ms/step - accuracy: 0.8030 - loss: 0.5975 - val_accuracy: 0.8254 - val_loss: 0.5277\n",
      "Epoch 7/40\n",
      "\u001b[1m140/140\u001b[0m \u001b[32m━━━━━━━━━━━━━━━━━━━━\u001b[0m\u001b[37m\u001b[0m \u001b[1m7s\u001b[0m 51ms/step - accuracy: 0.8203 - loss: 0.5452 - val_accuracy: 0.8351 - val_loss: 0.4797\n",
      "Epoch 8/40\n",
      "\u001b[1m140/140\u001b[0m \u001b[32m━━━━━━━━━━━━━━━━━━━━\u001b[0m\u001b[37m\u001b[0m \u001b[1m7s\u001b[0m 52ms/step - accuracy: 0.8299 - loss: 0.4890 - val_accuracy: 0.8552 - val_loss: 0.4174\n",
      "Epoch 9/40\n",
      "\u001b[1m140/140\u001b[0m \u001b[32m━━━━━━━━━━━━━━━━━━━━\u001b[0m\u001b[37m\u001b[0m \u001b[1m7s\u001b[0m 51ms/step - accuracy: 0.8471 - loss: 0.4359 - val_accuracy: 0.8477 - val_loss: 0.4602\n",
      "Epoch 10/40\n",
      "\u001b[1m140/140\u001b[0m \u001b[32m━━━━━━━━━━━━━━━━━━━━\u001b[0m\u001b[37m\u001b[0m \u001b[1m7s\u001b[0m 52ms/step - accuracy: 0.8716 - loss: 0.3704 - val_accuracy: 0.8620 - val_loss: 0.3976\n",
      "Epoch 11/40\n",
      "\u001b[1m140/140\u001b[0m \u001b[32m━━━━━━━━━━━━━━━━━━━━\u001b[0m\u001b[37m\u001b[0m \u001b[1m7s\u001b[0m 51ms/step - accuracy: 0.8704 - loss: 0.3693 - val_accuracy: 0.8718 - val_loss: 0.3661\n",
      "Epoch 12/40\n",
      "\u001b[1m140/140\u001b[0m \u001b[32m━━━━━━━━━━━━━━━━━━━━\u001b[0m\u001b[37m\u001b[0m \u001b[1m7s\u001b[0m 52ms/step - accuracy: 0.8941 - loss: 0.3116 - val_accuracy: 0.8884 - val_loss: 0.3380\n",
      "Epoch 13/40\n",
      "\u001b[1m140/140\u001b[0m \u001b[32m━━━━━━━━━━━━━━━━━━━━\u001b[0m\u001b[37m\u001b[0m \u001b[1m7s\u001b[0m 51ms/step - accuracy: 0.8991 - loss: 0.3105 - val_accuracy: 0.8952 - val_loss: 0.3167\n",
      "Epoch 14/40\n",
      "\u001b[1m140/140\u001b[0m \u001b[32m━━━━━━━━━━━━━━━━━━━━\u001b[0m\u001b[37m\u001b[0m \u001b[1m7s\u001b[0m 52ms/step - accuracy: 0.9038 - loss: 0.2773 - val_accuracy: 0.8935 - val_loss: 0.3066\n",
      "Epoch 15/40\n",
      "\u001b[1m140/140\u001b[0m \u001b[32m━━━━━━━━━━━━━━━━━━━━\u001b[0m\u001b[37m\u001b[0m \u001b[1m7s\u001b[0m 51ms/step - accuracy: 0.9121 - loss: 0.2511 - val_accuracy: 0.8947 - val_loss: 0.3125\n",
      "Epoch 16/40\n",
      "\u001b[1m140/140\u001b[0m \u001b[32m━━━━━━━━━━━━━━━━━━━━\u001b[0m\u001b[37m\u001b[0m \u001b[1m7s\u001b[0m 53ms/step - accuracy: 0.9191 - loss: 0.2284 - val_accuracy: 0.9044 - val_loss: 0.2797\n",
      "Epoch 17/40\n",
      "\u001b[1m140/140\u001b[0m \u001b[32m━━━━━━━━━━━━━━━━━━━━\u001b[0m\u001b[37m\u001b[0m \u001b[1m7s\u001b[0m 51ms/step - accuracy: 0.9310 - loss: 0.2027 - val_accuracy: 0.9021 - val_loss: 0.2892\n",
      "Epoch 18/40\n",
      "\u001b[1m140/140\u001b[0m \u001b[32m━━━━━━━━━━━━━━━━━━━━\u001b[0m\u001b[37m\u001b[0m \u001b[1m7s\u001b[0m 53ms/step - accuracy: 0.9323 - loss: 0.1867 - val_accuracy: 0.8930 - val_loss: 0.3077\n",
      "Epoch 19/40\n",
      "\u001b[1m140/140\u001b[0m \u001b[32m━━━━━━━━━━━━━━━━━━━━\u001b[0m\u001b[37m\u001b[0m \u001b[1m7s\u001b[0m 52ms/step - accuracy: 0.9361 - loss: 0.1922 - val_accuracy: 0.9050 - val_loss: 0.2811\n",
      "Epoch 20/40\n",
      "\u001b[1m140/140\u001b[0m \u001b[32m━━━━━━━━━━━━━━━━━━━━\u001b[0m\u001b[37m\u001b[0m \u001b[1m7s\u001b[0m 51ms/step - accuracy: 0.9406 - loss: 0.1705 - val_accuracy: 0.9061 - val_loss: 0.2849\n",
      "Epoch 21/40\n",
      "\u001b[1m140/140\u001b[0m \u001b[32m━━━━━━━━━━━━━━━━━━━━\u001b[0m\u001b[37m\u001b[0m \u001b[1m7s\u001b[0m 52ms/step - accuracy: 0.9409 - loss: 0.1749 - val_accuracy: 0.9199 - val_loss: 0.2478\n",
      "Epoch 22/40\n",
      "\u001b[1m140/140\u001b[0m \u001b[32m━━━━━━━━━━━━━━━━━━━━\u001b[0m\u001b[37m\u001b[0m \u001b[1m7s\u001b[0m 51ms/step - accuracy: 0.9520 - loss: 0.1401 - val_accuracy: 0.9078 - val_loss: 0.2899\n",
      "Epoch 23/40\n",
      "\u001b[1m140/140\u001b[0m \u001b[32m━━━━━━━━━━━━━━━━━━━━\u001b[0m\u001b[37m\u001b[0m \u001b[1m7s\u001b[0m 52ms/step - accuracy: 0.9411 - loss: 0.1549 - val_accuracy: 0.9199 - val_loss: 0.2504\n",
      "Epoch 24/40\n",
      "\u001b[1m140/140\u001b[0m \u001b[32m━━━━━━━━━━━━━━━━━━━━\u001b[0m\u001b[37m\u001b[0m \u001b[1m7s\u001b[0m 51ms/step - accuracy: 0.9480 - loss: 0.1422 - val_accuracy: 0.9170 - val_loss: 0.2654\n",
      "Epoch 25/40\n",
      "\u001b[1m140/140\u001b[0m \u001b[32m━━━━━━━━━━━━━━━━━━━━\u001b[0m\u001b[37m\u001b[0m \u001b[1m7s\u001b[0m 52ms/step - accuracy: 0.9563 - loss: 0.1322 - val_accuracy: 0.9101 - val_loss: 0.2780\n",
      "Epoch 26/40\n",
      "\u001b[1m140/140\u001b[0m \u001b[32m━━━━━━━━━━━━━━━━━━━━\u001b[0m\u001b[37m\u001b[0m \u001b[1m8s\u001b[0m 57ms/step - accuracy: 0.9615 - loss: 0.1153 - val_accuracy: 0.9050 - val_loss: 0.2896\n",
      "Epoch 27/40\n",
      "\u001b[1m140/140\u001b[0m \u001b[32m━━━━━━━━━━━━━━━━━━━━\u001b[0m\u001b[37m\u001b[0m \u001b[1m8s\u001b[0m 53ms/step - accuracy: 0.9568 - loss: 0.1303 - val_accuracy: 0.9176 - val_loss: 0.2648\n",
      "Epoch 28/40\n",
      "\u001b[1m140/140\u001b[0m \u001b[32m━━━━━━━━━━━━━━━━━━━━\u001b[0m\u001b[37m\u001b[0m \u001b[1m7s\u001b[0m 52ms/step - accuracy: 0.9618 - loss: 0.1091 - val_accuracy: 0.9267 - val_loss: 0.2482\n",
      "Epoch 29/40\n",
      "\u001b[1m140/140\u001b[0m \u001b[32m━━━━━━━━━━━━━━━━━━━━\u001b[0m\u001b[37m\u001b[0m \u001b[1m8s\u001b[0m 55ms/step - accuracy: 0.9597 - loss: 0.1106 - val_accuracy: 0.9084 - val_loss: 0.2999\n",
      "Epoch 30/40\n",
      "\u001b[1m140/140\u001b[0m \u001b[32m━━━━━━━━━━━━━━━━━━━━\u001b[0m\u001b[37m\u001b[0m \u001b[1m8s\u001b[0m 54ms/step - accuracy: 0.9587 - loss: 0.1154 - val_accuracy: 0.9181 - val_loss: 0.2700\n",
      "Epoch 31/40\n",
      "\u001b[1m140/140\u001b[0m \u001b[32m━━━━━━━━━━━━━━━━━━━━\u001b[0m\u001b[37m\u001b[0m \u001b[1m8s\u001b[0m 57ms/step - accuracy: 0.9664 - loss: 0.0925 - val_accuracy: 0.9210 - val_loss: 0.2585\n",
      "Epoch 32/40\n",
      "\u001b[1m140/140\u001b[0m \u001b[32m━━━━━━━━━━━━━━━━━━━━\u001b[0m\u001b[37m\u001b[0m \u001b[1m7s\u001b[0m 52ms/step - accuracy: 0.9662 - loss: 0.1024 - val_accuracy: 0.9222 - val_loss: 0.2618\n",
      "Epoch 33/40\n",
      "\u001b[1m140/140\u001b[0m \u001b[32m━━━━━━━━━━━━━━━━━━━━\u001b[0m\u001b[37m\u001b[0m \u001b[1m7s\u001b[0m 53ms/step - accuracy: 0.9665 - loss: 0.1001 - val_accuracy: 0.9313 - val_loss: 0.2587\n",
      "Epoch 34/40\n",
      "\u001b[1m140/140\u001b[0m \u001b[32m━━━━━━━━━━━━━━━━━━━━\u001b[0m\u001b[37m\u001b[0m \u001b[1m8s\u001b[0m 56ms/step - accuracy: 0.9734 - loss: 0.0805 - val_accuracy: 0.9216 - val_loss: 0.2772\n",
      "Epoch 35/40\n",
      "\u001b[1m140/140\u001b[0m \u001b[32m━━━━━━━━━━━━━━━━━━━━\u001b[0m\u001b[37m\u001b[0m \u001b[1m8s\u001b[0m 56ms/step - accuracy: 0.9659 - loss: 0.0931 - val_accuracy: 0.9302 - val_loss: 0.2510\n",
      "Epoch 36/40\n",
      "\u001b[1m140/140\u001b[0m \u001b[32m━━━━━━━━━━━━━━━━━━━━\u001b[0m\u001b[37m\u001b[0m \u001b[1m7s\u001b[0m 51ms/step - accuracy: 0.9687 - loss: 0.0914 - val_accuracy: 0.9204 - val_loss: 0.2588\n",
      "Epoch 37/40\n",
      "\u001b[1m140/140\u001b[0m \u001b[32m━━━━━━━━━━━━━━━━━━━━\u001b[0m\u001b[37m\u001b[0m \u001b[1m7s\u001b[0m 51ms/step - accuracy: 0.9653 - loss: 0.1011 - val_accuracy: 0.9199 - val_loss: 0.2703\n",
      "Epoch 38/40\n",
      "\u001b[1m140/140\u001b[0m \u001b[32m━━━━━━━━━━━━━━━━━━━━\u001b[0m\u001b[37m\u001b[0m \u001b[1m7s\u001b[0m 51ms/step - accuracy: 0.9639 - loss: 0.1064 - val_accuracy: 0.9319 - val_loss: 0.2475\n",
      "Epoch 39/40\n",
      "\u001b[1m140/140\u001b[0m \u001b[32m━━━━━━━━━━━━━━━━━━━━\u001b[0m\u001b[37m\u001b[0m \u001b[1m7s\u001b[0m 50ms/step - accuracy: 0.9683 - loss: 0.0953 - val_accuracy: 0.9193 - val_loss: 0.2804\n",
      "Epoch 40/40\n",
      "\u001b[1m140/140\u001b[0m \u001b[32m━━━━━━━━━━━━━━━━━━━━\u001b[0m\u001b[37m\u001b[0m \u001b[1m7s\u001b[0m 51ms/step - accuracy: 0.9656 - loss: 0.0965 - val_accuracy: 0.9296 - val_loss: 0.2323\n"
     ]
    }
   ],
   "source": [
    "# Fit the model\n",
    "history = model.fit(X_train_scaled, Y_train, validation_data=(X_test_scaled, Y_test), batch_size=50, epochs=40)"
   ]
  },
  {
   "cell_type": "code",
   "execution_count": 49,
   "metadata": {},
   "outputs": [
    {
     "data": {
      "image/png": "[encoded data removed]",
      "text/plain": [
       "<Figure size 1000x500 with 1 Axes>"
      ]
     },
     "metadata": {},
     "output_type": "display_data"
    }
   ],
   "source": [
    "train_acc = history.history['accuracy']\n",
    "val_acc = history.history['val_accuracy']\n",
    "\n",
    "# Extracting epochs\n",
    "epochs = range(1, len(train_acc) + 1)\n",
    "\n",
    "# Plotting the accuracy\n",
    "plt.figure(figsize=(10, 5))\n",
    "plt.plot(epochs, train_acc, 'bo-', label='Training Accuracy')\n",
    "plt.plot(epochs, val_acc, 'ro-', label='Validation Accuracy')\n",
    "\n",
    "# Adding titles and labels\n",
    "plt.title('Training and Validation Accuracy')\n",
    "plt.xlabel('Epochs')\n",
    "plt.ylabel('Accuracy')\n",
    "plt.xticks(epochs)  # Set x-ticks to the number of epochs\n",
    "plt.legend()\n",
    "plt.grid()\n",
    "\n",
    "# Display the plot\n",
    "plt.show()"
   ]
  },
  {
   "cell_type": "code",
   "execution_count": 56,
   "metadata": {},
   "outputs": [
    {
     "name": "stdout",
     "output_type": "stream",
     "text": [
      "\u001b[1m55/55\u001b[0m \u001b[32m━━━━━━━━━━━━━━━━━━━━\u001b[0m\u001b[37m\u001b[0m \u001b[1m1s\u001b[0m 10ms/step\n"
     ]
    },
    {
     "data": {
      "image/png": "[encoded data removed]",
      "text/plain": [
       "<Figure size 800x600 with 2 Axes>"
      ]
     },
     "metadata": {},
     "output_type": "display_data"
    }
   ],
   "source": [
    "predictions = model.predict(X_test_scaled)\n",
    "predicted_labels = np.argmax(predictions, axis=1)\n",
    "true_labels = np.argmax(Y_test, axis=1)  \n",
    "cm = confusion_matrix(true_labels, predicted_labels)\n",
    "\n",
    "plt.figure(figsize=(8, 6))\n",
    "sns.heatmap(cm, annot=True, fmt='d', cmap='Blues', xticklabels=num, yticklabels=num)\n",
    "plt.title(\"Confusion Matrix\")\n",
    "plt.xlabel(\"Predicted Labels\")\n",
    "plt.ylabel(\"True Labels\")\n",
    "plt.show()"
   ]
  },
  {
   "cell_type": "code",
   "execution_count": 50,
   "metadata": {},
   "outputs": [
    {
     "name": "stderr",
     "output_type": "stream",
     "text": [
      "WARNING:absl:You are saving your model as an HDF5 file via `model.save()` or `keras.saving.save_model(model)`. This file format is considered legacy. We recommend using instead the native Keras format, e.g. `model.save('my_model.keras')` or `keras.saving.save_model(model, 'my_model.keras')`. \n"
     ]
    }
   ],
   "source": [
    "model.save('trained_cnn_model.h5')"
   ]
  }
 ],
 "metadata": {
  "kernelspec": {
   "display_name": "myenv",
   "language": "python",
   "name": "python3"
  },
  "language_info": {
   "codemirror_mode": {
    "name": "ipython",
    "version": 3
   },
   "file_extension": ".py",
   "mimetype": "text/x-python",
   "name": "python",
   "nbconvert_exporter": "python",
   "pygments_lexer": "ipython3",
   "version": "3.10.12"
  }
 },
 "nbformat": 4,
 "nbformat_minor": 2
}
